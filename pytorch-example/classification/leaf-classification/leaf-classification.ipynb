{
 "nbformat": 4,
 "nbformat_minor": 0,
 "metadata": {
  "colab": {
   "name": "leaf-classification.ipynb",
   "provenance": [],
   "collapsed_sections": [],
   "toc_visible": true,
   "mount_file_id": "1a2eV46e4n3RGsZn7bDhvp7j4bdAzpwpV",
   "authorship_tag": "ABX9TyNs6uc6vRRUaC6/APvISouh"
  },
  "kernelspec": {
   "name": "python3",
   "display_name": "Python 3"
  },
  "language_info": {
   "name": "python"
  },
  "accelerator": "GPU"
 },
 "cells": [
  {
   "cell_type": "markdown",
   "metadata": {
    "id": "buDGwGum0i5n"
   },
   "source": [
    "# 引入工具方法 Tools"
   ]
  },
  {
   "cell_type": "code",
   "metadata": {
    "id": "kCyKU7Sd0UhV",
    "executionInfo": {
     "status": "ok",
     "timestamp": 1622965979903,
     "user_tz": -480,
     "elapsed": 490,
     "user": {
      "displayName": "张磊",
      "photoUrl": "https://lh3.googleusercontent.com/a-/AOh14GjlPEl6cJvEx0VANLifpUzpl62wQRrxrVF1Kjf3Ag=s64",
      "userId": "03484803475501592421"
     }
    }
   },
   "source": [
    "import torch\n",
    "import csv\n",
    "from math import floor, ceil\n",
    "\n",
    "import matplotlib.pyplot as plt\n",
    "from matplotlib.pyplot import figure\n",
    "\n",
    "\n",
    "def load_from_csv(path):\n",
    "    with open(path, 'r') as fp:\n",
    "        source = np.array(list(csv.reader(fp)))[:, :]\n",
    "    return source\n",
    "\n",
    "\n",
    "def save_as_csv(path, title, id, pred):\n",
    "    with open(path, 'w+') as fp:\n",
    "        writer = csv.writer(fp)\n",
    "        writer.writerow(['id'] + title)\n",
    "        for i in range(len(id)):\n",
    "            writer.writerow([id[i]] + pred[i])\n",
    "\n",
    "def save_log(path,content):\n",
    "   with open(path,mode='a+') as fp:\n",
    "        fp.write(content + '\\n')\n",
    "\n",
    "def split_source(source, tr_indice=0.8):\n",
    "    source_len = len(source)\n",
    "    tr_source = source[:floor(source_len * tr_indice), :]\n",
    "    val_source = source[ceil(source_len * tr_indice):, :]\n",
    "    return (tr_source, val_source)\n",
    "\n",
    "\n",
    "def feature_normalization(data: torch.Tensor(), dim):\n",
    "    return (data - data.mean(dim=dim, keepdim=True)) \\\n",
    "           / data.std(dim=dim, keepdim=True)\n",
    "\n",
    "\n",
    "def same_seeds(seed=42069):\n",
    "    torch.manual_seed(seed)\n",
    "    if torch.cuda.is_available():\n",
    "        torch.cuda.manual_seed(seed)\n",
    "        torch.cuda.manual_seed_all(seed)\n",
    "    np.random.seed(seed)\n",
    "    torch.backends.cudnn.benchmark = False\n",
    "    torch.backends.cudnn.deterministic = True\n",
    "\n",
    "\n",
    "def plot_learning_curve(record, save_path=None):\n",
    "    figure(figsize=(6, 4), dpi=100)\n",
    "\n",
    "    total_steps = len(record['tr_acc'])\n",
    "    epochs = range(total_steps)\n",
    "\n",
    "    tr_acc_x, tr_acc_y = epochs, record['tr_acc']\n",
    "    tr_loss_x, tr_loss_y = epochs, record['tr_loss']\n",
    "    val_acc_x, val_acc_y = epochs, record['val_acc']\n",
    "    val_loss_x, val_loss_y = epochs, record['val_loss']\n",
    "\n",
    "    plt.plot(tr_acc_x, tr_acc_y, c='tab:red', label='train accuracy')\n",
    "    plt.plot(tr_loss_x, tr_loss_y, c='tab:red', label='train loss', linestyle=\":\")\n",
    "    plt.plot(val_acc_x, val_acc_y, c='tab:blue', label='validation accuracy')\n",
    "    plt.plot(val_loss_x, val_loss_y, c='tab:blue', label='validation loss', linestyle=\":\")\n",
    "\n",
    "    plt.ylim(0.0, 5.0)\n",
    "    plt.xlabel('Training steps')\n",
    "    plt.ylabel('MSE loss')\n",
    "    plt.title('Learning curve')\n",
    "    plt.legend(loc=\"upper right\")\n",
    "\n",
    "    plt.grid(alpha=0.3)\n",
    "    if save_path is not None:\n",
    "        plt.savefig(save_path)\n",
    "    plt.show()\n",
    "    "
   ],
   "execution_count": 46,
   "outputs": []
  },
  {
   "cell_type": "markdown",
   "metadata": {
    "id": "stIFt1DT0qL1"
   },
   "source": [
    "# 设计模型"
   ]
  },
  {
   "cell_type": "markdown",
   "metadata": {
    "id": "frI1KuxZ0r1F"
   },
   "source": [
    "## 设计 Dataset"
   ]
  },
  {
   "cell_type": "code",
   "metadata": {
    "id": "0qqw2ILr0uSL",
    "executionInfo": {
     "status": "ok",
     "timestamp": 1622965979905,
     "user_tz": -480,
     "elapsed": 8,
     "user": {
      "displayName": "张磊",
      "photoUrl": "https://lh3.googleusercontent.com/a-/AOh14GjlPEl6cJvEx0VANLifpUzpl62wQRrxrVF1Kjf3Ag=s64",
      "userId": "03484803475501592421"
     }
    }
   },
   "source": [
    "import torch\n",
    "from torch.utils.data import Dataset\n",
    "\n",
    "import numpy as np\n",
    "\n",
    "\n",
    "# design for semi-supervisor\n",
    "class PseudoSet(Dataset):\n",
    "    data: tuple()\n",
    "\n",
    "    def __init__(self, data):\n",
    "        self.data = data\n",
    "\n",
    "    def __getitem__(self, item):\n",
    "        return self.data[item]\n",
    "\n",
    "    def __len__(self):\n",
    "        return len(self.data)\n",
    "\n",
    "\n",
    "class ClassificationSet(Dataset):\n",
    "    data: list()\n",
    "    target: list()\n",
    "\n",
    "    def __init__(self, data, target=None, fn=False):\n",
    "        self.data = torch.FloatTensor(data.astype(np.float32))\n",
    "        self.target = torch.LongTensor(target.astype(np.int32)) if target is not None else None\n",
    "\n",
    "        # feature_normalization\n",
    "        if fn is True: self.data[:, :] = feature_normalization(self.target[:, :], dim=0)\n",
    "\n",
    "    def __getitem__(self, item):\n",
    "        return (self.data[item], self.target[item]) if self.target is not None else self.data[item]\n",
    "\n",
    "    def __len__(self):\n",
    "        return len(self.data)\n"
   ],
   "execution_count": 47,
   "outputs": []
  },
  {
   "cell_type": "markdown",
   "metadata": {
    "id": "mX4YElHy0wTJ"
   },
   "source": [
    "## 设计 Model"
   ]
  },
  {
   "cell_type": "code",
   "metadata": {
    "id": "vZCZY6Ou0zkf",
    "executionInfo": {
     "status": "ok",
     "timestamp": 1622965979905,
     "user_tz": -480,
     "elapsed": 7,
     "user": {
      "displayName": "张磊",
      "photoUrl": "https://lh3.googleusercontent.com/a-/AOh14GjlPEl6cJvEx0VANLifpUzpl62wQRrxrVF1Kjf3Ag=s64",
      "userId": "03484803475501592421"
     }
    }
   },
   "source": [
    "import torch\n",
    "import torch.nn as nn\n",
    "from torch.nn import Module, Sequential\n",
    "\n",
    "\n",
    "class ClassificationModel(Module):\n",
    "    net: Sequential()\n",
    "\n",
    "    def __init__(self, feature_dim: int, classes_num: int):\n",
    "        super(ClassificationModel, self).__init__()\n",
    "        self.net = nn.Sequential(\n",
    "            nn.Linear(in_features=feature_dim, out_features=732, bias=True),\n",
    "            nn.Dropout(p=0.5, inplace=True),\n",
    "            nn.ReLU(inplace=True),\n",
    "            nn.BatchNorm1d(num_features=732),\n",
    "\n",
    "            nn.Linear(in_features=732, out_features=classes_num, bias=True)\n",
    "        )\n",
    "\n",
    "    def forward(self, data):\n",
    "        return self.net(data)\n",
    "\n",
    "    def predict(self, data):\n",
    "        softmax = nn.Softmax(dim=-1)\n",
    "        pred = softmax(self.forward(data))\n",
    "        return pred"
   ],
   "execution_count": 48,
   "outputs": []
  },
  {
   "cell_type": "markdown",
   "metadata": {
    "id": "ojLCyI2I02rF"
   },
   "source": [
    "# 设计训练"
   ]
  },
  {
   "cell_type": "markdown",
   "metadata": {
    "id": "cryFhE1y1EBJ"
   },
   "source": [
    "## 半监督学习 Semi-Supervisor"
   ]
  },
  {
   "cell_type": "code",
   "metadata": {
    "id": "wsk-saxN1CW5",
    "executionInfo": {
     "status": "ok",
     "timestamp": 1622965979906,
     "user_tz": -480,
     "elapsed": 8,
     "user": {
      "displayName": "张磊",
      "photoUrl": "https://lh3.googleusercontent.com/a-/AOh14GjlPEl6cJvEx0VANLifpUzpl62wQRrxrVF1Kjf3Ag=s64",
      "userId": "03484803475501592421"
     }
    }
   },
   "source": [
    "import torch\n",
    "from torch.nn import Module\n",
    "from torch.utils.data import Dataset, DataLoader\n",
    "\n",
    "\n",
    "def do_pseudo(model: Module, dataloader: DataLoader, threshold=0.9, device:str='cpu'):\n",
    "    append_list = []\n",
    "    model.eval()\n",
    "    for data in dataloader:\n",
    "        with torch.no_grad():\n",
    "            data = data.to(device)\n",
    "            pred = torch.max(model.forward(data), dim=1)\n",
    "            pred_poss = pred[0]\n",
    "            pred_label = pred[1]\n",
    "            for index in range(len(data)):\n",
    "                if pred_poss[index] >= threshold:\n",
    "                    append_list.append((data[index].cpu(), pred_label[index].cpu()))\n",
    "    return PseudoSet(data=append_list)"
   ],
   "execution_count": 49,
   "outputs": []
  },
  {
   "cell_type": "markdown",
   "metadata": {
    "id": "PXKPQH7j1Gam"
   },
   "source": [
    "## 监督训练 Train"
   ]
  },
  {
   "cell_type": "code",
   "metadata": {
    "id": "HVnI6MS41I5b",
    "executionInfo": {
     "status": "ok",
     "timestamp": 1622965980256,
     "user_tz": -480,
     "elapsed": 357,
     "user": {
      "displayName": "张磊",
      "photoUrl": "https://lh3.googleusercontent.com/a-/AOh14GjlPEl6cJvEx0VANLifpUzpl62wQRrxrVF1Kjf3Ag=s64",
      "userId": "03484803475501592421"
     }
    }
   },
   "source": [
    "import torch\n",
    "from torch.nn import Module\n",
    "from torch.utils.data import Dataset, DataLoader\n",
    "\n",
    "\n",
    "def do_train(model: Module, dataloader: DataLoader, optimizer, criterion, device:str='cpu'):\n",
    "    train_acc = train_loss = 0.0\n",
    "    model.train()\n",
    "    for data, target in dataloader:\n",
    "        optimizer.zero_grad()\n",
    "        data, target = data.to(device), target.to(device)\n",
    "        pred = model.forward(data)\n",
    "        loss = criterion(pred, target)\n",
    "        loss.backward()\n",
    "        optimizer.step()\n",
    "        train_acc += (torch.max(pred, dim=1)[1] == target).sum().cpu().item()\n",
    "        train_loss += loss.cpu().item()\n",
    "    train_acc = train_acc / len(dataloader.dataset)\n",
    "    train_loss = train_loss / len(dataloader)\n",
    "    return (train_acc, train_loss)"
   ],
   "execution_count": 50,
   "outputs": []
  },
  {
   "cell_type": "markdown",
   "metadata": {
    "id": "nFYnJxhb1LuF"
   },
   "source": [
    "## 模型验证 Validation"
   ]
  },
  {
   "cell_type": "code",
   "metadata": {
    "id": "A0dgXiM11NMV",
    "executionInfo": {
     "status": "ok",
     "timestamp": 1622965980258,
     "user_tz": -480,
     "elapsed": 8,
     "user": {
      "displayName": "张磊",
      "photoUrl": "https://lh3.googleusercontent.com/a-/AOh14GjlPEl6cJvEx0VANLifpUzpl62wQRrxrVF1Kjf3Ag=s64",
      "userId": "03484803475501592421"
     }
    }
   },
   "source": [
    "import torch\n",
    "from torch.nn import Module\n",
    "from torch.utils.data import Dataset, DataLoader\n",
    "\n",
    "\n",
    "def do_val(model: Module, dataloader: DataLoader, criterion, device:str='cpu'):\n",
    "    val_acc = val_loss = 0.0\n",
    "    model.eval()\n",
    "    if len(dataloader.dataset) > 0:\n",
    "        for data, target in dataloader:\n",
    "            with torch.no_grad():\n",
    "                data, target = data.to(device), target.to(device)\n",
    "                pred = model.forward(data)\n",
    "                loss = criterion(pred, target)\n",
    "            val_acc += (torch.max(pred, dim=1)[1] == target).sum().cpu().item()\n",
    "            val_loss += loss.cpu().item()\n",
    "        val_acc = val_acc / len(dataloader.dataset)\n",
    "        val_loss = val_loss / len(dataloader)\n",
    "    return val_acc, val_loss"
   ],
   "execution_count": 51,
   "outputs": []
  },
  {
   "cell_type": "markdown",
   "metadata": {
    "id": "XsUuhRSo1O-9"
   },
   "source": [
    "## 模型测试 Test"
   ]
  },
  {
   "cell_type": "code",
   "metadata": {
    "id": "a0gRS2az1QF5",
    "executionInfo": {
     "status": "ok",
     "timestamp": 1622965980258,
     "user_tz": -480,
     "elapsed": 7,
     "user": {
      "displayName": "张磊",
      "photoUrl": "https://lh3.googleusercontent.com/a-/AOh14GjlPEl6cJvEx0VANLifpUzpl62wQRrxrVF1Kjf3Ag=s64",
      "userId": "03484803475501592421"
     }
    }
   },
   "source": [
    "import torch\n",
    "from torch.nn import Module\n",
    "from torch.utils.data import Dataset, DataLoader\n",
    "\n",
    "\n",
    "def do_test(model: Module, dataloader: DataLoader, device:str='cpu'):\n",
    "    preds = []\n",
    "    model.eval()\n",
    "    for data in dataloader:\n",
    "        with torch.no_grad():\n",
    "            data = data.to(device)\n",
    "            pred = model.predict(data)\n",
    "        preds.append(pred.detach().cpu())\n",
    "    return torch.cat(preds, dim=0).numpy().tolist()"
   ],
   "execution_count": 52,
   "outputs": []
  },
  {
   "cell_type": "markdown",
   "metadata": {
    "id": "vu9gFmTg1TSc"
   },
   "source": [
    "# 训练模型"
   ]
  },
  {
   "cell_type": "markdown",
   "metadata": {
    "id": "ug2pPLXH1zGu"
   },
   "source": [
    "## 引入配置"
   ]
  },
  {
   "cell_type": "code",
   "metadata": {
    "id": "dr_DTsLb10am",
    "executionInfo": {
     "status": "ok",
     "timestamp": 1622965980259,
     "user_tz": -480,
     "elapsed": 7,
     "user": {
      "displayName": "张磊",
      "photoUrl": "https://lh3.googleusercontent.com/a-/AOh14GjlPEl6cJvEx0VANLifpUzpl62wQRrxrVF1Kjf3Ag=s64",
      "userId": "03484803475501592421"
     }
    }
   },
   "source": [
    "import torch\n",
    "\n",
    "params = {\n",
    "    'project': 'sample',\n",
    "    'device': 'cuda' if torch.cuda.is_available() else 'cpu',\n",
    "    'source_path': {\n",
    "        'tr_source_path': './data/train.csv',\n",
    "        'val_source_path': './data/train.csv',\n",
    "        'test_source_path': './data/test.csv',\n",
    "        'pred_path': './data/pred.csv',\n",
    "        'sample_source_path': './data/sample_submission.csv'\n",
    "    },\n",
    "    'model_path': {\n",
    "        'model_ckpt_path': './model/model-{}.ckpt',\n",
    "        'model_log_path': './model/model-state.txt',\n",
    "        'plot_path': './model/model-plot.jpg'\n",
    "    },\n",
    "    'classes_number': 99,\n",
    "    'source_split': 0.9,\n",
    "    'feature_normalization': True,\n",
    "    'train_ckpt': False,\n",
    "    'train_epochs': 300,\n",
    "    'batch_size': 42,\n",
    "    'early_stop': True,\n",
    "    'early_stop_threshold': 20,\n",
    "    'semi_supervisor': True,\n",
    "    'semi_supervisor_threshold': 0.95,\n",
    "    'sgd_param': {\n",
    "        'learning_rate': 0.005,\n",
    "        'momentum': 0.9\n",
    "    },\n",
    "    'adam_param': {\n",
    "        'learning_rate': 0.0002,\n",
    "        'weight_decay': 0.0005\n",
    "    }\n",
    "}"
   ],
   "execution_count": 53,
   "outputs": []
  },
  {
   "cell_type": "markdown",
   "metadata": {
    "id": "oO9NAcKN155F"
   },
   "source": [
    "## 预读数据"
   ]
  },
  {
   "cell_type": "code",
   "metadata": {
    "id": "7vwccXzw18AT",
    "executionInfo": {
     "status": "ok",
     "timestamp": 1622965980259,
     "user_tz": -480,
     "elapsed": 7,
     "user": {
      "displayName": "张磊",
      "photoUrl": "https://lh3.googleusercontent.com/a-/AOh14GjlPEl6cJvEx0VANLifpUzpl62wQRrxrVF1Kjf3Ag=s64",
      "userId": "03484803475501592421"
     }
    }
   },
   "source": [
    "import torch\n",
    "from torch.utils.data import Dataset, DataLoader, ConcatDataset\n",
    "\n",
    "same_seeds()\n",
    "\n",
    "label = load_from_csv(params['source_path']['sample_source_path'])[0, 1:].tolist()\n",
    "source = load_from_csv(params['source_path']['tr_source_path'])[1:, :]\n",
    "\n",
    "for row in source: row[1] = label.index(row[1])\n",
    "\n",
    "tr_source, val_source = split_source(source=source, tr_indice=params['source_split'])\n",
    "test_source = load_from_csv(params['source_path']['test_source_path'])[1:, :]\n",
    "\n",
    "tr_set = ClassificationSet(data=tr_source[:, 2:], target=tr_source[:, 1])\n",
    "val_set = ClassificationSet(data=val_source[:, 2:], target=val_source[:, 1])\n",
    "test_set = ClassificationSet(data=test_source[:, 1:])"
   ],
   "execution_count": 54,
   "outputs": []
  },
  {
   "cell_type": "markdown",
   "metadata": {
    "id": "8ClkCN3QC7Em"
   },
   "source": [
    "## 训练过程"
   ]
  },
  {
   "cell_type": "code",
   "metadata": {
    "colab": {
     "base_uri": "https://localhost:8080/",
     "height": 1000
    },
    "id": "4lGuVVBp1U-K",
    "executionInfo": {
     "status": "ok",
     "timestamp": 1622965988434,
     "user_tz": -480,
     "elapsed": 8181,
     "user": {
      "displayName": "张磊",
      "photoUrl": "https://lh3.googleusercontent.com/a-/AOh14GjlPEl6cJvEx0VANLifpUzpl62wQRrxrVF1Kjf3Ag=s64",
      "userId": "03484803475501592421"
     }
    },
    "outputId": "b70af5d7-3c10-4783-effa-8232538ff3bf"
   },
   "source": [
    "import os\n",
    "\n",
    "import torch\n",
    "from torch.utils.data import Dataset, DataLoader, ConcatDataset\n",
    "\n",
    "\n",
    "tr_loader = DataLoader(dataset=tr_set, batch_size=params['batch_size'], shuffle=True, pin_memory=True)\n",
    "val_loader = DataLoader(dataset=val_set, batch_size=params['batch_size'], shuffle=True, pin_memory=True)\n",
    "test_loader = DataLoader(dataset=test_set, batch_size=params['batch_size'], shuffle=False, pin_memory=True)\n",
    "\n",
    "criterion = nn.CrossEntropyLoss(reduction='mean').to(params['device'])\n",
    "\n",
    "model = ClassificationModel(\n",
    "    feature_dim=len(tr_loader.dataset[0][0]),\n",
    "    classes_num=len(label)\n",
    ").to(params['device'])\n",
    "\n",
    "optimizer = torch.optim.Adam(\n",
    "    params=model.parameters(),\n",
    "    lr=params['adam_param']['learning_rate'],\n",
    "    weight_decay=params['adam_param']['weight_decay']\n",
    ")\n",
    "\n",
    "train_record = {'tr_acc': [], 'tr_loss': [], 'val_acc': [], 'val_loss': []}\n",
    "\n",
    "perf_acc = perf_loss = 0.0\n",
    "perf_epoch = 0\n",
    "early_stop_cnt = 0\n",
    "\n",
    "for epoch in range(1, int(params['train_epochs']) + 1):\n",
    "\n",
    "    model_path = params['model_path']['model_ckpt_path'].format(epoch)\n",
    "\n",
    "    if params['train_ckpt'] is True:\n",
    "        if os.path.exists(model_path):\n",
    "            model.load_state_dict(state_dict=torch.load(model_path))\n",
    "            continue\n",
    "\n",
    "    if params['semi_supervisor'] is True and perf_acc >= params['semi_supervisor_threshold']:\n",
    "        pseudo_set = do_pseudo(\n",
    "            model=model,\n",
    "            dataloader=test_loader,\n",
    "            threshold=params['semi_supervisor_threshold'],\n",
    "            device=params['device']\n",
    "        )\n",
    "        tr_loader = DataLoader(\n",
    "            dataset=ConcatDataset([tr_set, pseudo_set]),\n",
    "            batch_size=params['batch_size'],\n",
    "            shuffle=True,\n",
    "            pin_memory=True\n",
    "        )\n",
    "\n",
    "    if params['early_stop'] is True and params['early_stop_threshold'] < early_stop_cnt:\n",
    "        break\n",
    "\n",
    "    tr_acc, tr_loss = do_train(\n",
    "        model=model,\n",
    "        dataloader=tr_loader,\n",
    "        criterion=criterion,\n",
    "        optimizer=optimizer,\n",
    "        device=params['device']\n",
    "    )\n",
    "\n",
    "    val_acc, val_loss = do_val(\n",
    "        model=model,\n",
    "        dataloader=val_loader,\n",
    "        criterion=criterion,\n",
    "        device=params['device']\n",
    "    )\n",
    "\n",
    "    if val_acc > perf_acc:\n",
    "        perf_epoch, perf_acc, perf_loss = epoch, val_acc, val_loss\n",
    "        early_stop_cnt = 0\n",
    "    else:\n",
    "        early_stop_cnt += 1\n",
    "\n",
    "    train_record['tr_acc'].append(tr_acc)\n",
    "    train_record['tr_loss'].append(tr_loss)\n",
    "    train_record['val_acc'].append(val_acc)\n",
    "    train_record['val_loss'].append(val_loss)\n",
    "\n",
    "    log = '{device} - {epoch:03d}/{epochs:3d} at size {size}: ' \\\n",
    "          'tr_acc {tr_acc:.4f}, val_acc {val_acc:.4f}, tr_loss {tr_loss:.4f}, val_loss {val_loss:.4f}'.format(\n",
    "        size=len(tr_loader.dataset),\n",
    "        device=params['device'],\n",
    "        epoch=epoch,\n",
    "        epochs=params['train_epochs'],\n",
    "        tr_acc=tr_acc,\n",
    "        val_acc=val_acc,\n",
    "        tr_loss=tr_loss,\n",
    "        val_loss=val_loss\n",
    "    )\n",
    "    \n",
    "    torch.save(model.state_dict(), model_path)\n",
    "    save_log(params['model_path']['model_log_path'], log)\n",
    "\n",
    "    print(log)\n",
    "\n",
    "plot_learning_curve(train_record, save_path=params['model_path']['plot_path'])"
   ],
   "execution_count": 55,
   "outputs": [
    {
     "output_type": "stream",
     "text": [
      "cuda - 001/300 at size 891: tr_acc 0.0236, val_acc 0.0606, tr_loss 4.5844, val_loss 4.5787\n",
      "cuda - 002/300 at size 891: tr_acc 0.0629, val_acc 0.1717, tr_loss 4.3541, val_loss 4.5097\n",
      "cuda - 003/300 at size 891: tr_acc 0.1212, val_acc 0.3131, tr_loss 4.1067, val_loss 4.3100\n",
      "cuda - 004/300 at size 891: tr_acc 0.2256, val_acc 0.4848, tr_loss 3.8890, val_loss 3.9844\n",
      "cuda - 005/300 at size 891: tr_acc 0.3378, val_acc 0.5354, tr_loss 3.6182, val_loss 3.6287\n",
      "cuda - 006/300 at size 891: tr_acc 0.4388, val_acc 0.5455, tr_loss 3.3542, val_loss 3.3906\n",
      "cuda - 007/300 at size 891: tr_acc 0.5297, val_acc 0.5859, tr_loss 3.0849, val_loss 3.1929\n",
      "cuda - 008/300 at size 891: tr_acc 0.5993, val_acc 0.6263, tr_loss 2.8315, val_loss 2.9775\n",
      "cuda - 009/300 at size 891: tr_acc 0.6465, val_acc 0.6364, tr_loss 2.5873, val_loss 2.7193\n",
      "cuda - 010/300 at size 891: tr_acc 0.7160, val_acc 0.7071, tr_loss 2.3551, val_loss 2.4542\n",
      "cuda - 011/300 at size 891: tr_acc 0.7508, val_acc 0.7677, tr_loss 2.1452, val_loss 2.2246\n",
      "cuda - 012/300 at size 891: tr_acc 0.7935, val_acc 0.7980, tr_loss 1.9585, val_loss 2.2540\n",
      "cuda - 013/300 at size 891: tr_acc 0.8137, val_acc 0.7677, tr_loss 1.7821, val_loss 2.0156\n",
      "cuda - 014/300 at size 891: tr_acc 0.8451, val_acc 0.7778, tr_loss 1.6043, val_loss 1.8410\n",
      "cuda - 015/300 at size 891: tr_acc 0.8698, val_acc 0.7879, tr_loss 1.4906, val_loss 1.6861\n",
      "cuda - 016/300 at size 891: tr_acc 0.9001, val_acc 0.8283, tr_loss 1.3514, val_loss 1.6031\n",
      "cuda - 017/300 at size 891: tr_acc 0.9024, val_acc 0.8384, tr_loss 1.2500, val_loss 1.5091\n",
      "cuda - 018/300 at size 891: tr_acc 0.9181, val_acc 0.8485, tr_loss 1.1266, val_loss 1.3180\n",
      "cuda - 019/300 at size 891: tr_acc 0.9383, val_acc 0.8586, tr_loss 1.0205, val_loss 1.2334\n",
      "cuda - 020/300 at size 891: tr_acc 0.9371, val_acc 0.8687, tr_loss 0.9499, val_loss 1.2372\n",
      "cuda - 021/300 at size 891: tr_acc 0.9473, val_acc 0.8788, tr_loss 0.8773, val_loss 1.1588\n",
      "cuda - 022/300 at size 891: tr_acc 0.9517, val_acc 0.8889, tr_loss 0.7979, val_loss 1.0299\n",
      "cuda - 023/300 at size 891: tr_acc 0.9574, val_acc 0.8889, tr_loss 0.7538, val_loss 1.0096\n",
      "cuda - 024/300 at size 891: tr_acc 0.9663, val_acc 0.8889, tr_loss 0.7068, val_loss 0.8871\n",
      "cuda - 025/300 at size 891: tr_acc 0.9663, val_acc 0.8990, tr_loss 0.6345, val_loss 0.8518\n",
      "cuda - 026/300 at size 891: tr_acc 0.9675, val_acc 0.8990, tr_loss 0.5811, val_loss 0.7643\n",
      "cuda - 027/300 at size 891: tr_acc 0.9731, val_acc 0.8889, tr_loss 0.5477, val_loss 0.7229\n",
      "cuda - 028/300 at size 891: tr_acc 0.9753, val_acc 0.9192, tr_loss 0.4990, val_loss 0.7333\n",
      "cuda - 029/300 at size 891: tr_acc 0.9742, val_acc 0.9091, tr_loss 0.4818, val_loss 0.6476\n",
      "cuda - 030/300 at size 891: tr_acc 0.9787, val_acc 0.9091, tr_loss 0.4408, val_loss 0.6754\n",
      "cuda - 031/300 at size 891: tr_acc 0.9832, val_acc 0.8889, tr_loss 0.4076, val_loss 0.6621\n",
      "cuda - 032/300 at size 891: tr_acc 0.9854, val_acc 0.8990, tr_loss 0.3791, val_loss 0.6911\n",
      "cuda - 033/300 at size 891: tr_acc 0.9877, val_acc 0.9293, tr_loss 0.3600, val_loss 0.5949\n",
      "cuda - 034/300 at size 891: tr_acc 0.9877, val_acc 0.9293, tr_loss 0.3409, val_loss 0.5636\n",
      "cuda - 035/300 at size 891: tr_acc 0.9820, val_acc 0.9091, tr_loss 0.3281, val_loss 0.5163\n",
      "cuda - 036/300 at size 891: tr_acc 0.9910, val_acc 0.9192, tr_loss 0.3115, val_loss 0.5622\n",
      "cuda - 037/300 at size 891: tr_acc 0.9899, val_acc 0.9293, tr_loss 0.3010, val_loss 0.5067\n",
      "cuda - 038/300 at size 891: tr_acc 0.9910, val_acc 0.9192, tr_loss 0.2661, val_loss 0.4720\n",
      "cuda - 039/300 at size 891: tr_acc 0.9966, val_acc 0.9293, tr_loss 0.2576, val_loss 0.4283\n",
      "cuda - 040/300 at size 891: tr_acc 0.9955, val_acc 0.9394, tr_loss 0.2484, val_loss 0.4379\n",
      "cuda - 041/300 at size 891: tr_acc 0.9944, val_acc 0.9192, tr_loss 0.2452, val_loss 0.4246\n",
      "cuda - 042/300 at size 891: tr_acc 0.9933, val_acc 0.9394, tr_loss 0.2498, val_loss 0.4205\n",
      "cuda - 043/300 at size 891: tr_acc 0.9989, val_acc 0.9394, tr_loss 0.2078, val_loss 0.4003\n",
      "cuda - 044/300 at size 891: tr_acc 0.9989, val_acc 0.9394, tr_loss 0.2029, val_loss 0.4081\n",
      "cuda - 045/300 at size 891: tr_acc 0.9989, val_acc 0.9394, tr_loss 0.1960, val_loss 0.3759\n",
      "cuda - 046/300 at size 891: tr_acc 0.9944, val_acc 0.9495, tr_loss 0.1881, val_loss 0.3758\n",
      "cuda - 047/300 at size 891: tr_acc 0.9978, val_acc 0.9394, tr_loss 0.1851, val_loss 0.3451\n",
      "cuda - 048/300 at size 891: tr_acc 0.9955, val_acc 0.9394, tr_loss 0.1725, val_loss 0.3861\n",
      "cuda - 049/300 at size 891: tr_acc 0.9978, val_acc 0.9394, tr_loss 0.1598, val_loss 0.4239\n",
      "cuda - 050/300 at size 891: tr_acc 0.9989, val_acc 0.9495, tr_loss 0.1595, val_loss 0.3232\n",
      "cuda - 051/300 at size 891: tr_acc 0.9989, val_acc 0.9596, tr_loss 0.1557, val_loss 0.4179\n",
      "cuda - 052/300 at size 1485: tr_acc 0.9825, val_acc 0.9697, tr_loss 0.2265, val_loss 0.2879\n",
      "cuda - 053/300 at size 1485: tr_acc 0.9865, val_acc 0.9697, tr_loss 0.2110, val_loss 0.3238\n",
      "cuda - 054/300 at size 1485: tr_acc 0.9892, val_acc 0.9798, tr_loss 0.1900, val_loss 0.3015\n",
      "cuda - 055/300 at size 1485: tr_acc 0.9939, val_acc 0.9798, tr_loss 0.1740, val_loss 0.2578\n",
      "cuda - 056/300 at size 1485: tr_acc 0.9966, val_acc 0.9798, tr_loss 0.1614, val_loss 0.2386\n",
      "cuda - 057/300 at size 1485: tr_acc 0.9912, val_acc 0.9798, tr_loss 0.1578, val_loss 0.2268\n",
      "cuda - 058/300 at size 1485: tr_acc 0.9953, val_acc 0.9899, tr_loss 0.1412, val_loss 0.2129\n",
      "cuda - 059/300 at size 1485: tr_acc 0.9966, val_acc 0.9899, tr_loss 0.1339, val_loss 0.2164\n",
      "cuda - 060/300 at size 1485: tr_acc 0.9953, val_acc 0.9899, tr_loss 0.1394, val_loss 0.2072\n",
      "cuda - 061/300 at size 1485: tr_acc 0.9987, val_acc 0.9798, tr_loss 0.1176, val_loss 0.1794\n",
      "cuda - 062/300 at size 1485: tr_acc 0.9993, val_acc 0.9899, tr_loss 0.1152, val_loss 0.1953\n",
      "cuda - 063/300 at size 1485: tr_acc 0.9980, val_acc 0.9798, tr_loss 0.1113, val_loss 0.1891\n",
      "cuda - 064/300 at size 1485: tr_acc 0.9946, val_acc 0.9899, tr_loss 0.1103, val_loss 0.1888\n",
      "cuda - 065/300 at size 1485: tr_acc 0.9973, val_acc 0.9899, tr_loss 0.0975, val_loss 0.2268\n",
      "cuda - 066/300 at size 1485: tr_acc 0.9993, val_acc 0.9899, tr_loss 0.0932, val_loss 0.2094\n",
      "cuda - 067/300 at size 1485: tr_acc 1.0000, val_acc 0.9899, tr_loss 0.0895, val_loss 0.1755\n",
      "cuda - 068/300 at size 1485: tr_acc 1.0000, val_acc 0.9798, tr_loss 0.0847, val_loss 0.1832\n",
      "cuda - 069/300 at size 1485: tr_acc 0.9980, val_acc 0.9798, tr_loss 0.0824, val_loss 0.1605\n",
      "cuda - 070/300 at size 1485: tr_acc 0.9973, val_acc 0.9899, tr_loss 0.0795, val_loss 0.1622\n",
      "cuda - 071/300 at size 1485: tr_acc 0.9980, val_acc 0.9899, tr_loss 0.0772, val_loss 0.1789\n",
      "cuda - 072/300 at size 1485: tr_acc 0.9980, val_acc 0.9899, tr_loss 0.0777, val_loss 0.1543\n",
      "cuda - 073/300 at size 1485: tr_acc 0.9987, val_acc 0.9899, tr_loss 0.0749, val_loss 0.1567\n",
      "cuda - 074/300 at size 1485: tr_acc 1.0000, val_acc 0.9899, tr_loss 0.0696, val_loss 0.1603\n",
      "cuda - 075/300 at size 1485: tr_acc 0.9993, val_acc 0.9899, tr_loss 0.0684, val_loss 0.1487\n",
      "cuda - 076/300 at size 1485: tr_acc 0.9993, val_acc 0.9798, tr_loss 0.0671, val_loss 0.1616\n",
      "cuda - 077/300 at size 1485: tr_acc 1.0000, val_acc 0.9899, tr_loss 0.0610, val_loss 0.1539\n",
      "cuda - 078/300 at size 1485: tr_acc 0.9987, val_acc 0.9798, tr_loss 0.0633, val_loss 0.1509\n",
      "cuda - 079/300 at size 1485: tr_acc 0.9987, val_acc 0.9899, tr_loss 0.0608, val_loss 0.1753\n"
     ],
     "name": "stdout"
    },
    {
     "output_type": "display_data",
     "data": {
      "image/png": "[encoded data removed]",
      "text/plain": [
       "<Figure size 600x400 with 1 Axes>"
      ]
     },
     "metadata": {
      "tags": [],
      "needs_background": "light"
     }
    }
   ]
  },
  {
   "cell_type": "markdown",
   "metadata": {
    "id": "ORukmc0XDAAP"
   },
   "source": [
    "## 测试过程"
   ]
  },
  {
   "cell_type": "code",
   "metadata": {
    "id": "CGMZ53YeDEEI",
    "executionInfo": {
     "status": "ok",
     "timestamp": 1622965988903,
     "user_tz": -480,
     "elapsed": 474,
     "user": {
      "displayName": "张磊",
      "photoUrl": "https://lh3.googleusercontent.com/a-/AOh14GjlPEl6cJvEx0VANLifpUzpl62wQRrxrVF1Kjf3Ag=s64",
      "userId": "03484803475501592421"
     }
    }
   },
   "source": [
    "import torch\n",
    "\n",
    "model_path = params['model_path']['model_ckpt_path'].format(perf_epoch)\n",
    "model.load_state_dict(torch.load(model_path))\n",
    "\n",
    "pred_data = do_test(model=model, dataloader=test_loader, device=params['device'])\n",
    "\n",
    "save_as_csv(\n",
    "    path=params['source_path']['pred_path'],\n",
    "    title=label,\n",
    "    id=test_source[:, 0].tolist(),\n",
    "    pred=pred_data\n",
    ")"
   ],
   "execution_count": 56,
   "outputs": []
  }
 ]
}